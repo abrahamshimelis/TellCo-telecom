{
 "cells": [
  {
   "cell_type": "markdown",
   "metadata": {},
   "source": [
    "## Data Quality Checking"
   ]
  },
  {
   "cell_type": "code",
   "execution_count": 1,
   "metadata": {},
   "outputs": [],
   "source": [
    "import sys\n",
    "sys.path.append('../')\n",
    "import pandas as pd\n",
    "import pandas as pd\n",
    "import numpy as np\n",
    "import matplotlib.pyplot as plt\n",
    "import seaborn as sns\n",
    "from sklearn.impute import SimpleImputer\n",
    "from scripts.db_utils import connect, sql_to_dataframe\n",
    "from src.data_quality_checks import check_missing_data, check_duplicates, check_data_types, check_numeric_anomalies, get_numeric_columns, get_total_missing_percentage\n",
    "from src.utils import bytes_to_gigabytes, kilobytes_per_second_to_megabytes_per_second, milliseconds_to_hours, milliseconds_to_minutes, bytes_to_megabytes, milliseconds_to_seconds\n",
    "\n"
   ]
  },
  {
   "cell_type": "code",
   "execution_count": 2,
   "metadata": {},
   "outputs": [
    {
     "name": "stdout",
     "output_type": "stream",
     "text": [
      "Connecting..\n",
      "All good, Connection successful!\n"
     ]
    },
    {
     "data": {
      "text/html": [
       "<div>\n",
       "<style scoped>\n",
       "    .dataframe tbody tr th:only-of-type {\n",
       "        vertical-align: middle;\n",
       "    }\n",
       "\n",
       "    .dataframe tbody tr th {\n",
       "        vertical-align: top;\n",
       "    }\n",
       "\n",
       "    .dataframe thead th {\n",
       "        text-align: right;\n",
       "    }\n",
       "</style>\n",
       "<table border=\"1\" class=\"dataframe\">\n",
       "  <thead>\n",
       "    <tr style=\"text-align: right;\">\n",
       "      <th></th>\n",
       "      <th>Bearer Id</th>\n",
       "      <th>Start</th>\n",
       "      <th>Start ms</th>\n",
       "      <th>End</th>\n",
       "      <th>End ms</th>\n",
       "      <th>Dur. (ms)</th>\n",
       "      <th>IMSI</th>\n",
       "      <th>MSISDN/Number</th>\n",
       "      <th>IMEI</th>\n",
       "      <th>Last Location Name</th>\n",
       "      <th>...</th>\n",
       "      <th>Youtube DL (Bytes)</th>\n",
       "      <th>Youtube UL (Bytes)</th>\n",
       "      <th>Netflix DL (Bytes)</th>\n",
       "      <th>Netflix UL (Bytes)</th>\n",
       "      <th>Gaming DL (Bytes)</th>\n",
       "      <th>Gaming UL (Bytes)</th>\n",
       "      <th>Other DL (Bytes)</th>\n",
       "      <th>Other UL (Bytes)</th>\n",
       "      <th>Total UL (Bytes)</th>\n",
       "      <th>Total DL (Bytes)</th>\n",
       "    </tr>\n",
       "  </thead>\n",
       "  <tbody>\n",
       "    <tr>\n",
       "      <th>0</th>\n",
       "      <td>1.311448e+19</td>\n",
       "      <td>4/4/2019 12:01</td>\n",
       "      <td>770.0</td>\n",
       "      <td>4/25/2019 14:35</td>\n",
       "      <td>662.0</td>\n",
       "      <td>1823652.0</td>\n",
       "      <td>2.082014e+14</td>\n",
       "      <td>3.366496e+10</td>\n",
       "      <td>3.552121e+13</td>\n",
       "      <td>9.16456699548519E+015</td>\n",
       "      <td>...</td>\n",
       "      <td>15854611.0</td>\n",
       "      <td>2501332.0</td>\n",
       "      <td>8198936.0</td>\n",
       "      <td>9656251.0</td>\n",
       "      <td>278082303.0</td>\n",
       "      <td>14344150.0</td>\n",
       "      <td>171744450.0</td>\n",
       "      <td>8814393.0</td>\n",
       "      <td>36749741.0</td>\n",
       "      <td>308879636.0</td>\n",
       "    </tr>\n",
       "    <tr>\n",
       "      <th>1</th>\n",
       "      <td>1.311448e+19</td>\n",
       "      <td>4/9/2019 13:04</td>\n",
       "      <td>235.0</td>\n",
       "      <td>4/25/2019 8:15</td>\n",
       "      <td>606.0</td>\n",
       "      <td>1365104.0</td>\n",
       "      <td>2.082019e+14</td>\n",
       "      <td>3.368185e+10</td>\n",
       "      <td>3.579401e+13</td>\n",
       "      <td>L77566A</td>\n",
       "      <td>...</td>\n",
       "      <td>20247395.0</td>\n",
       "      <td>19111729.0</td>\n",
       "      <td>18338413.0</td>\n",
       "      <td>17227132.0</td>\n",
       "      <td>608750074.0</td>\n",
       "      <td>1170709.0</td>\n",
       "      <td>526904238.0</td>\n",
       "      <td>15055145.0</td>\n",
       "      <td>53800391.0</td>\n",
       "      <td>653384965.0</td>\n",
       "    </tr>\n",
       "    <tr>\n",
       "      <th>2</th>\n",
       "      <td>1.311448e+19</td>\n",
       "      <td>4/9/2019 17:42</td>\n",
       "      <td>1.0</td>\n",
       "      <td>4/25/2019 11:58</td>\n",
       "      <td>652.0</td>\n",
       "      <td>1361762.0</td>\n",
       "      <td>2.082003e+14</td>\n",
       "      <td>3.376063e+10</td>\n",
       "      <td>3.528151e+13</td>\n",
       "      <td>D42335A</td>\n",
       "      <td>...</td>\n",
       "      <td>19725661.0</td>\n",
       "      <td>14699576.0</td>\n",
       "      <td>17587794.0</td>\n",
       "      <td>6163408.0</td>\n",
       "      <td>229584621.0</td>\n",
       "      <td>395630.0</td>\n",
       "      <td>410692588.0</td>\n",
       "      <td>4215763.0</td>\n",
       "      <td>27883638.0</td>\n",
       "      <td>279807335.0</td>\n",
       "    </tr>\n",
       "    <tr>\n",
       "      <th>3</th>\n",
       "      <td>1.311448e+19</td>\n",
       "      <td>4/10/2019 0:31</td>\n",
       "      <td>486.0</td>\n",
       "      <td>4/25/2019 7:36</td>\n",
       "      <td>171.0</td>\n",
       "      <td>1321509.0</td>\n",
       "      <td>2.082014e+14</td>\n",
       "      <td>3.375034e+10</td>\n",
       "      <td>3.535661e+13</td>\n",
       "      <td>T21824A</td>\n",
       "      <td>...</td>\n",
       "      <td>21388122.0</td>\n",
       "      <td>15146643.0</td>\n",
       "      <td>13994646.0</td>\n",
       "      <td>1097942.0</td>\n",
       "      <td>799538153.0</td>\n",
       "      <td>10849722.0</td>\n",
       "      <td>749039933.0</td>\n",
       "      <td>12797283.0</td>\n",
       "      <td>43324218.0</td>\n",
       "      <td>846028530.0</td>\n",
       "    </tr>\n",
       "    <tr>\n",
       "      <th>4</th>\n",
       "      <td>1.311448e+19</td>\n",
       "      <td>4/12/2019 20:10</td>\n",
       "      <td>565.0</td>\n",
       "      <td>4/25/2019 10:40</td>\n",
       "      <td>954.0</td>\n",
       "      <td>1089009.0</td>\n",
       "      <td>2.082014e+14</td>\n",
       "      <td>3.369980e+10</td>\n",
       "      <td>3.540701e+13</td>\n",
       "      <td>D88865A</td>\n",
       "      <td>...</td>\n",
       "      <td>15259380.0</td>\n",
       "      <td>18962873.0</td>\n",
       "      <td>17124581.0</td>\n",
       "      <td>415218.0</td>\n",
       "      <td>527707248.0</td>\n",
       "      <td>3529801.0</td>\n",
       "      <td>550709500.0</td>\n",
       "      <td>13910322.0</td>\n",
       "      <td>38542814.0</td>\n",
       "      <td>569138589.0</td>\n",
       "    </tr>\n",
       "  </tbody>\n",
       "</table>\n",
       "<p>5 rows × 55 columns</p>\n",
       "</div>"
      ],
      "text/plain": [
       "      Bearer Id            Start  Start ms              End  End ms  \\\n",
       "0  1.311448e+19   4/4/2019 12:01     770.0  4/25/2019 14:35   662.0   \n",
       "1  1.311448e+19   4/9/2019 13:04     235.0   4/25/2019 8:15   606.0   \n",
       "2  1.311448e+19   4/9/2019 17:42       1.0  4/25/2019 11:58   652.0   \n",
       "3  1.311448e+19   4/10/2019 0:31     486.0   4/25/2019 7:36   171.0   \n",
       "4  1.311448e+19  4/12/2019 20:10     565.0  4/25/2019 10:40   954.0   \n",
       "\n",
       "   Dur. (ms)          IMSI  MSISDN/Number          IMEI  \\\n",
       "0  1823652.0  2.082014e+14   3.366496e+10  3.552121e+13   \n",
       "1  1365104.0  2.082019e+14   3.368185e+10  3.579401e+13   \n",
       "2  1361762.0  2.082003e+14   3.376063e+10  3.528151e+13   \n",
       "3  1321509.0  2.082014e+14   3.375034e+10  3.535661e+13   \n",
       "4  1089009.0  2.082014e+14   3.369980e+10  3.540701e+13   \n",
       "\n",
       "      Last Location Name  ...  Youtube DL (Bytes)  Youtube UL (Bytes)  \\\n",
       "0  9.16456699548519E+015  ...          15854611.0           2501332.0   \n",
       "1                L77566A  ...          20247395.0          19111729.0   \n",
       "2                D42335A  ...          19725661.0          14699576.0   \n",
       "3                T21824A  ...          21388122.0          15146643.0   \n",
       "4                D88865A  ...          15259380.0          18962873.0   \n",
       "\n",
       "   Netflix DL (Bytes)  Netflix UL (Bytes)  Gaming DL (Bytes)  \\\n",
       "0           8198936.0           9656251.0        278082303.0   \n",
       "1          18338413.0          17227132.0        608750074.0   \n",
       "2          17587794.0           6163408.0        229584621.0   \n",
       "3          13994646.0           1097942.0        799538153.0   \n",
       "4          17124581.0            415218.0        527707248.0   \n",
       "\n",
       "   Gaming UL (Bytes)  Other DL (Bytes)  Other UL (Bytes)  Total UL (Bytes)  \\\n",
       "0         14344150.0       171744450.0         8814393.0        36749741.0   \n",
       "1          1170709.0       526904238.0        15055145.0        53800391.0   \n",
       "2           395630.0       410692588.0         4215763.0        27883638.0   \n",
       "3         10849722.0       749039933.0        12797283.0        43324218.0   \n",
       "4          3529801.0       550709500.0        13910322.0        38542814.0   \n",
       "\n",
       "   Total DL (Bytes)  \n",
       "0       308879636.0  \n",
       "1       653384965.0  \n",
       "2       279807335.0  \n",
       "3       846028530.0  \n",
       "4       569138589.0  \n",
       "\n",
       "[5 rows x 55 columns]"
      ]
     },
     "execution_count": 2,
     "metadata": {},
     "output_type": "execute_result"
    }
   ],
   "source": [
    "#opening the connection\n",
    "conn = connect()\n",
    "\n",
    "query = \"\"\" SELECT * FROM public.xdr_data  \"\"\"\n",
    "\n",
    "#loading our dataframe\n",
    "df = sql_to_dataframe(conn, query)\n",
    "\n",
    "#closing the connection\n",
    "conn.close()\n",
    "\n",
    "# Let’s see if we loaded the df successfully\n",
    "df.head()"
   ]
  },
  {
   "cell_type": "code",
   "execution_count": 3,
   "metadata": {},
   "outputs": [
    {
     "name": "stdout",
     "output_type": "stream",
     "text": [
      "                                 Column Name  Missing Values\n",
      "0                                  Bearer Id             991\n",
      "1                                      Start               1\n",
      "2                                   Start ms               1\n",
      "3                                        End               1\n",
      "4                                     End ms               1\n",
      "5                                  Dur. (ms)               1\n",
      "6                                       IMSI             570\n",
      "7                              MSISDN/Number            1066\n",
      "8                                       IMEI             572\n",
      "9                         Last Location Name            1153\n",
      "10                           Avg RTT DL (ms)           27829\n",
      "11                           Avg RTT UL (ms)           27812\n",
      "12                   Avg Bearer TP DL (kbps)               1\n",
      "13                   Avg Bearer TP UL (kbps)               1\n",
      "14               TCP DL Retrans. Vol (Bytes)           88146\n",
      "15               TCP UL Retrans. Vol (Bytes)           96649\n",
      "16                       DL TP < 50 Kbps (%)             754\n",
      "17            50 Kbps < DL TP < 250 Kbps (%)             754\n",
      "18             250 Kbps < DL TP < 1 Mbps (%)             754\n",
      "19                        DL TP > 1 Mbps (%)             754\n",
      "20                       UL TP < 10 Kbps (%)             792\n",
      "21             10 Kbps < UL TP < 50 Kbps (%)             792\n",
      "22            50 Kbps < UL TP < 300 Kbps (%)             792\n",
      "23                      UL TP > 300 Kbps (%)             792\n",
      "24                           HTTP DL (Bytes)           81474\n",
      "25                           HTTP UL (Bytes)           81810\n",
      "26                 Activity Duration DL (ms)               1\n",
      "27                 Activity Duration UL (ms)               1\n",
      "28                               Dur. (ms).1               1\n",
      "29                      Handset Manufacturer             572\n",
      "30                              Handset Type             572\n",
      "31           Nb of sec with 125000B < Vol DL           97538\n",
      "32     Nb of sec with 1250B < Vol UL < 6250B           92894\n",
      "33  Nb of sec with 31250B < Vol DL < 125000B           93586\n",
      "34            Nb of sec with 37500B < Vol UL          130254\n",
      "35    Nb of sec with 6250B < Vol DL < 31250B           88317\n",
      "36    Nb of sec with 6250B < Vol UL < 37500B          111843\n",
      "37             Nb of sec with Vol DL < 6250B             755\n",
      "38             Nb of sec with Vol UL < 1250B             793\n",
      "53                          Total UL (Bytes)               1\n",
      "54                          Total DL (Bytes)               1\n"
     ]
    }
   ],
   "source": [
    "# checking for missing value in each columns\n",
    "missing_data_summary = check_missing_data(df)\n",
    "print(missing_data_summary)"
   ]
  },
  {
   "cell_type": "code",
   "execution_count": 4,
   "metadata": {},
   "outputs": [
    {
     "name": "stdout",
     "output_type": "stream",
     "text": [
      "Total Percentage of Missing Values: 12.50%\n"
     ]
    }
   ],
   "source": [
    "# Calculate total percentage of missing values\n",
    "missing_data_percentage = get_total_missing_percentage(df)\n",
    "print(f\"Total Percentage of Missing Values: {missing_data_percentage:.2f}%\")"
   ]
  },
  {
   "cell_type": "code",
   "execution_count": 5,
   "metadata": {},
   "outputs": [
    {
     "name": "stdout",
     "output_type": "stream",
     "text": [
      "Success: No duplicated values.\n"
     ]
    }
   ],
   "source": [
    "# checking for duplicated rows in the datasets\n",
    "duplicate_rows = check_duplicates(df)\n",
    "print(duplicate_rows)"
   ]
  },
  {
   "cell_type": "code",
   "execution_count": 6,
   "metadata": {},
   "outputs": [
    {
     "name": "stdout",
     "output_type": "stream",
     "text": [
      "Success: Data types per column are uniform.\n"
     ]
    }
   ],
   "source": [
    "# checking for data type issues per each columns\n",
    "dtypes_summary = check_data_types(df)\n",
    "print(dtypes_summary)"
   ]
  },
  {
   "cell_type": "code",
   "execution_count": 7,
   "metadata": {},
   "outputs": [
    {
     "name": "stdout",
     "output_type": "stream",
     "text": [
      "['Bearer Id', 'Start ms', 'End ms', 'Dur. (ms)', 'IMSI', 'MSISDN/Number', 'IMEI', 'Avg RTT DL (ms)', 'Avg RTT UL (ms)', 'Avg Bearer TP DL (kbps)', 'Avg Bearer TP UL (kbps)', 'TCP DL Retrans. Vol (Bytes)', 'TCP UL Retrans. Vol (Bytes)', 'DL TP < 50 Kbps (%)', '50 Kbps < DL TP < 250 Kbps (%)', '250 Kbps < DL TP < 1 Mbps (%)', 'DL TP > 1 Mbps (%)', 'UL TP < 10 Kbps (%)', '10 Kbps < UL TP < 50 Kbps (%)', '50 Kbps < UL TP < 300 Kbps (%)', 'UL TP > 300 Kbps (%)', 'HTTP DL (Bytes)', 'HTTP UL (Bytes)', 'Activity Duration DL (ms)', 'Activity Duration UL (ms)', 'Dur. (ms).1', 'Nb of sec with 125000B < Vol DL', 'Nb of sec with 1250B < Vol UL < 6250B', 'Nb of sec with 31250B < Vol DL < 125000B', 'Nb of sec with 37500B < Vol UL', 'Nb of sec with 6250B < Vol DL < 31250B', 'Nb of sec with 6250B < Vol UL < 37500B', 'Nb of sec with Vol DL < 6250B', 'Nb of sec with Vol UL < 1250B', 'Social Media DL (Bytes)', 'Social Media UL (Bytes)', 'Google DL (Bytes)', 'Google UL (Bytes)', 'Email DL (Bytes)', 'Email UL (Bytes)', 'Youtube DL (Bytes)', 'Youtube UL (Bytes)', 'Netflix DL (Bytes)', 'Netflix UL (Bytes)', 'Gaming DL (Bytes)', 'Gaming UL (Bytes)', 'Other DL (Bytes)', 'Other UL (Bytes)', 'Total UL (Bytes)', 'Total DL (Bytes)']\n"
     ]
    }
   ],
   "source": [
    "# list all numberical columns \n",
    "numeric_columns = get_numeric_columns(df)\n",
    "print(numeric_columns)"
   ]
  },
  {
   "cell_type": "code",
   "execution_count": 8,
   "metadata": {},
   "outputs": [
    {
     "name": "stdout",
     "output_type": "stream",
     "text": [
      "Success: No anomalies detected.\n",
      "Success: No anomalies detected.\n",
      "Success: No anomalies detected.\n",
      "Success: No anomalies detected.\n",
      "Success: No anomalies detected.\n",
      "Success: No anomalies detected.\n",
      "Success: No anomalies detected.\n",
      "Success: No anomalies detected.\n",
      "Success: No anomalies detected.\n",
      "Success: No anomalies detected.\n",
      "Success: No anomalies detected.\n",
      "Success: No anomalies detected.\n",
      "Success: No anomalies detected.\n",
      "Success: No anomalies detected.\n",
      "Success: No anomalies detected.\n",
      "Success: No anomalies detected.\n",
      "Success: No anomalies detected.\n",
      "Success: No anomalies detected.\n",
      "Success: No anomalies detected.\n",
      "Success: No anomalies detected.\n",
      "Success: No anomalies detected.\n",
      "Success: No anomalies detected.\n",
      "Success: No anomalies detected.\n",
      "Success: No anomalies detected.\n",
      "Success: No anomalies detected.\n",
      "Success: No anomalies detected.\n",
      "Success: No anomalies detected.\n",
      "Success: No anomalies detected.\n",
      "Success: No anomalies detected.\n",
      "Success: No anomalies detected.\n",
      "Success: No anomalies detected.\n",
      "Success: No anomalies detected.\n",
      "Success: No anomalies detected.\n",
      "Success: No anomalies detected.\n",
      "Success: No anomalies detected.\n",
      "Success: No anomalies detected.\n",
      "Success: No anomalies detected.\n",
      "Success: No anomalies detected.\n",
      "Success: No anomalies detected.\n",
      "Success: No anomalies detected.\n",
      "Success: No anomalies detected.\n",
      "Success: No anomalies detected.\n",
      "Success: No anomalies detected.\n",
      "Success: No anomalies detected.\n",
      "Success: No anomalies detected.\n",
      "Success: No anomalies detected.\n",
      "Success: No anomalies detected.\n",
      "Success: No anomalies detected.\n",
      "Success: No anomalies detected.\n",
      "Success: No anomalies detected.\n"
     ]
    }
   ],
   "source": [
    "# checking for anomalies in all numeric columns\n",
    "for numeric_column in numeric_columns:\n",
    "    numeric_anomalies = check_numeric_anomalies(df, numeric_column, lower_bound=0, upper_bound=None)\n",
    "    print(numeric_anomalies)"
   ]
  },
  {
   "cell_type": "markdown",
   "metadata": {},
   "source": [
    "## Data Preprocessing"
   ]
  },
  {
   "cell_type": "markdown",
   "metadata": {},
   "source": [
    "### Data Cleaning"
   ]
  },
  {
   "cell_type": "code",
   "execution_count": 9,
   "metadata": {},
   "outputs": [
    {
     "name": "stdout",
     "output_type": "stream",
     "text": [
      "Total Percentage of Missing Values before cleaning: 12.501637867868759%\n"
     ]
    }
   ],
   "source": [
    "# Calculate total percentage of missing values\n",
    "missing_data_percentage = get_total_missing_percentage(df)\n",
    "print(f\"Total Percentage of Missing Values before cleaning: {missing_data_percentage}%\")"
   ]
  },
  {
   "cell_type": "code",
   "execution_count": 10,
   "metadata": {},
   "outputs": [],
   "source": [
    "# Separate numerical and categorical columns\n",
    "numerical_columns = df.select_dtypes(include=[np.number]).columns.tolist()\n",
    "categorical_columns = df.select_dtypes(exclude=[np.number]).columns.tolist()"
   ]
  },
  {
   "cell_type": "code",
   "execution_count": 11,
   "metadata": {},
   "outputs": [],
   "source": [
    "# Drop columns with all missing values\n",
    "df = df.dropna(axis=1, how='all')"
   ]
  },
  {
   "cell_type": "code",
   "execution_count": 12,
   "metadata": {},
   "outputs": [],
   "source": [
    "# Convert numerical columns to the correct data type\n",
    "for col in numerical_columns:\n",
    "    df[col] = pd.to_numeric(df[col], errors='coerce')"
   ]
  },
  {
   "cell_type": "code",
   "execution_count": 13,
   "metadata": {},
   "outputs": [],
   "source": [
    "# Impute missing values for numerical columns using mean strategy\n",
    "num_imputer = SimpleImputer(strategy='mean')\n",
    "df[numerical_columns] = num_imputer.fit_transform(df[numerical_columns])"
   ]
  },
  {
   "cell_type": "code",
   "execution_count": 14,
   "metadata": {},
   "outputs": [],
   "source": [
    "# Impute missing values for categorical columns using most frequent strategy (mode)\n",
    "cat_imputer = SimpleImputer(strategy='most_frequent')\n",
    "df[categorical_columns] = cat_imputer.fit_transform(df[categorical_columns])"
   ]
  },
  {
   "cell_type": "code",
   "execution_count": 15,
   "metadata": {},
   "outputs": [
    {
     "name": "stdout",
     "output_type": "stream",
     "text": [
      "Total Percentage of Missing Values after cleaning: 0.0278664808901274%\n"
     ]
    }
   ],
   "source": [
    "# Calculate total percentage of missing values\n",
    "missing_data_percentage = get_total_missing_percentage(df)\n",
    "print(f\"Total Percentage of Missing Values after cleaning: {missing_data_percentage}%\")"
   ]
  },
  {
   "cell_type": "markdown",
   "metadata": {},
   "source": [
    "### Selecting Relevant columns"
   ]
  },
  {
   "cell_type": "code",
   "execution_count": 16,
   "metadata": {},
   "outputs": [],
   "source": [
    "# Customizing some columns and do some unit conversions \n",
    "df['Social Media (GB)'] = df['Social Media DL (Bytes)'].apply(bytes_to_megabytes) + df['Social Media UL (Bytes)'].apply(bytes_to_megabytes)\n",
    "df['Youtube (GB)'] = df['Youtube DL (Bytes)'].apply(bytes_to_megabytes) + df['Youtube UL (Bytes)'].apply(bytes_to_megabytes)\n",
    "df['Google (GB)'] = (df['Google DL (Bytes)'] + df['Google UL (Bytes)']).apply(bytes_to_megabytes)\n",
    "df['Email (GB)'] = (df['Email DL (Bytes)'] + df['Email UL (Bytes)']).apply(bytes_to_megabytes)\n",
    "df['Netflix (GB)'] = (df['Netflix DL (Bytes)'] + df['Netflix UL (Bytes)']).apply(bytes_to_megabytes)\n",
    "df['Gaming (GB)'] = (df['Gaming DL (Bytes)'] + df['Gaming UL (Bytes)']).apply(bytes_to_megabytes)\n",
    "df['Other (GB)'] = (df['Other DL (Bytes)'] + df['Other UL (Bytes)']).apply(bytes_to_megabytes)\n",
    "df['Total Data (GB)'] = df['Total DL (Bytes)'].apply(bytes_to_megabytes) + df['Total UL (Bytes)'].apply(bytes_to_megabytes)\n",
    "df['Dur. (hr)'] = df['Dur. (ms).1'].apply(milliseconds_to_hours)\n",
    "df['Avg RTT DL (sec)'] = df['Avg RTT DL (ms)'].apply(milliseconds_to_seconds)\n",
    "df['Avg RTT UL (sec)'] = df['Avg RTT UL (ms)'].apply(milliseconds_to_seconds)\n",
    "df['Avg Bearer TP DL (Mbps)'] = df['Avg Bearer TP DL (kbps)'].apply(kilobytes_per_second_to_megabytes_per_second)\n",
    "df['Avg Bearer TP UL (Mbps)'] = df['Avg Bearer TP UL (kbps)'].apply(kilobytes_per_second_to_megabytes_per_second)\n",
    "\n",
    "# Apply conversion functions to columns and store results in new columns\n",
    "df['Total DL (Mb)'] = df['Total DL (Bytes)'].apply(bytes_to_megabytes)\n",
    "df['Total UL (Mb)'] = df['Total UL (Bytes)'].apply(bytes_to_megabytes)\n",
    "df['Social Media DL (Mb)'] = df['Social Media DL (Bytes)'].apply(bytes_to_megabytes)\n",
    "df['Social Media UL (Mb)'] = df['Social Media UL (Bytes)'].apply(bytes_to_megabytes)\n",
    "df['Google DL (Mb)'] = df['Google DL (Bytes)'].apply(bytes_to_megabytes)\n",
    "df['Google UL (Mb)'] = df['Google UL (Bytes)'].apply(bytes_to_megabytes)\n",
    "df['Email DL (Mb)'] = df['Email DL (Bytes)'].apply(bytes_to_megabytes)\n",
    "df['Email UL (Mb)'] = df['Email UL (Bytes)'].apply(bytes_to_megabytes)\n",
    "df['Youtube DL (Mb)'] = df['Youtube DL (Bytes)'].apply(bytes_to_megabytes)\n",
    "df['Youtube UL (Mb)'] = df['Youtube UL (Bytes)'].apply(bytes_to_megabytes)\n",
    "df['Netflix DL (Mb)'] = df['Netflix DL (Bytes)'].apply(bytes_to_megabytes)\n",
    "df['Netflix UL (Mb)'] = df['Netflix UL (Bytes)'].apply(bytes_to_megabytes)\n",
    "df['Gaming DL (Mb)'] = df['Gaming DL (Bytes)'].apply(bytes_to_megabytes)\n",
    "df['Gaming UL (Mb)'] = df['Gaming UL (Bytes)'].apply(bytes_to_megabytes)\n",
    "df['Other DL (Mb)'] = df['Other DL (Bytes)'].apply(bytes_to_megabytes)\n",
    "df['Other UL (Mb)'] = df['Other UL (Bytes)'].apply(bytes_to_megabytes)\n",
    "df['Dur. (hr)'] = df['Dur. (ms).1'].apply(milliseconds_to_hours)\n",
    "df['Dur. (sec)'] = df['Dur. (ms).1'].apply(milliseconds_to_seconds)\n",
    "\n",
    "# Calculate total data volume (DL+UL) for each application\n",
    "df['Social Media Data (Mb)'] = df['Social Media DL (Mb)'] + df['Social Media UL (Mb)']\n",
    "df['Youtube Data (Mb)'] = df['Youtube DL (Mb)'] + df['Youtube UL (Mb)']\n",
    "df['Email Data (Mb)'] = df['Email DL (Mb)'] + df['Email UL (Mb)']\n",
    "df['Gaming Data (Mb)'] = df['Gaming DL (Mb)'] + df['Gaming UL (Mb)']\n",
    "df['Netflix Data (Mb)'] = df['Netflix DL (Mb)'] + df['Netflix UL (Mb)']\n",
    "df['Google Data (Mb)'] = df['Google DL (Mb)'] + df['Google UL (Mb)']\n",
    "df['Other Data (Mb)'] = df['Other DL (Mb)'] + df['Other UL (Mb)']\n",
    "df['Total Data (Mb)'] = df['Total DL (Mb)'] + df['Total UL (Mb)']\n",
    "df['Avg Bearer TP (Mbps)'] = df['Avg Bearer TP DL (Mbps)'] + df['Avg Bearer TP UL (Mbps)']\n",
    "df['Avg RTT (sec)'] = df['Avg RTT DL (sec)'] + df['Avg RTT UL (sec)']\n",
    "df['TCP Retrans. Vol (Bytes)'] = df['TCP DL Retrans. Vol (Bytes)'] + df['TCP UL Retrans. Vol (Bytes)']\n",
    "df['TCP Retrans. Vol (Mb)'] = df['TCP Retrans. Vol (Bytes)'].apply(bytes_to_megabytes)\n",
    "\n",
    "# Convert 'Start' to datetime format\n",
    "df['Start'] = pd.to_datetime(df['Start'])\n",
    "\n",
    "# Extract date part only and save it to a new column 'Date'\n",
    "df['Date'] = df['Start'].dt.date"
   ]
  },
  {
   "cell_type": "code",
   "execution_count": 17,
   "metadata": {},
   "outputs": [
    {
     "name": "stdout",
     "output_type": "stream",
     "text": [
      "Index(['Total Data (Mb)', 'MSISDN/Number', 'Date', 'Handset Manufacturer',\n",
      "       'Handset Type', 'Bearer Id', 'Avg Bearer TP (Mbps)',\n",
      "       'TCP Retrans. Vol (Mb)', 'Avg RTT (sec)', 'Dur. (hr)',\n",
      "       'Last Location Name', 'Gaming Data (Mb)', 'Netflix Data (Mb)',\n",
      "       'Email Data (Mb)', 'Google Data (Mb)', 'Youtube Data (Mb)',\n",
      "       'Social Media Data (Mb)', 'Other Data (Mb)'],\n",
      "      dtype='object')\n"
     ]
    }
   ],
   "source": [
    "# Create a new DataFrame with selected columns\n",
    "selected_columns = ['Total Data (Mb)', 'MSISDN/Number', 'Date',\n",
    "                    'Handset Manufacturer', 'Handset Type', 'Bearer Id',\n",
    "                    'Avg Bearer TP (Mbps)', 'TCP Retrans. Vol (Mb)', 'Avg RTT (sec)',\n",
    "                    'Dur. (hr)',\n",
    "                    'Last Location Name',\n",
    "                    'Gaming Data (Mb)', 'Netflix Data (Mb)', 'Email Data (Mb)', 'Google Data (Mb)', 'Youtube Data (Mb)', 'Social Media Data (Mb)', 'Other Data (Mb)']\n",
    "\n",
    "df_relevant = df[selected_columns]\n",
    "print(df_relevant.columns)"
   ]
  },
  {
   "cell_type": "markdown",
   "metadata": {},
   "source": [
    "## Exploratory Data Analysis"
   ]
  },
  {
   "cell_type": "markdown",
   "metadata": {},
   "source": [
    "### Data Summary"
   ]
  },
  {
   "cell_type": "markdown",
   "metadata": {},
   "source": [
    "#### For Categorical Data"
   ]
  },
  {
   "cell_type": "code",
   "execution_count": 18,
   "metadata": {},
   "outputs": [
    {
     "name": "stdout",
     "output_type": "stream",
     "text": [
      "--- Simple Tabulation for Handset Manufacturer ---\n"
     ]
    },
    {
     "data": {
      "text/html": [
       "<div>\n",
       "<style scoped>\n",
       "    .dataframe tbody tr th:only-of-type {\n",
       "        vertical-align: middle;\n",
       "    }\n",
       "\n",
       "    .dataframe tbody tr th {\n",
       "        vertical-align: top;\n",
       "    }\n",
       "\n",
       "    .dataframe thead th {\n",
       "        text-align: right;\n",
       "    }\n",
       "</style>\n",
       "<table border=\"1\" class=\"dataframe\">\n",
       "  <thead>\n",
       "    <tr style=\"text-align: right;\">\n",
       "      <th></th>\n",
       "      <th>Handset Manufacturer</th>\n",
       "      <th>Count</th>\n",
       "      <th>Percentage</th>\n",
       "    </tr>\n",
       "  </thead>\n",
       "  <tbody>\n",
       "    <tr>\n",
       "      <th>0</th>\n",
       "      <td>Apple</td>\n",
       "      <td>59565</td>\n",
       "      <td>39.86</td>\n",
       "    </tr>\n",
       "    <tr>\n",
       "      <th>1</th>\n",
       "      <td>Samsung</td>\n",
       "      <td>40839</td>\n",
       "      <td>27.33</td>\n",
       "    </tr>\n",
       "    <tr>\n",
       "      <th>2</th>\n",
       "      <td>Huawei</td>\n",
       "      <td>34423</td>\n",
       "      <td>23.04</td>\n",
       "    </tr>\n",
       "    <tr>\n",
       "      <th>3</th>\n",
       "      <td>undefined</td>\n",
       "      <td>8987</td>\n",
       "      <td>6.01</td>\n",
       "    </tr>\n",
       "    <tr>\n",
       "      <th>4</th>\n",
       "      <td>Sony Mobile Communications Ab</td>\n",
       "      <td>980</td>\n",
       "      <td>0.66</td>\n",
       "    </tr>\n",
       "    <tr>\n",
       "      <th>5</th>\n",
       "      <td>Wiko Global Sasu</td>\n",
       "      <td>747</td>\n",
       "      <td>0.50</td>\n",
       "    </tr>\n",
       "    <tr>\n",
       "      <th>6</th>\n",
       "      <td>Xiaomi Communications Co Ltd</td>\n",
       "      <td>397</td>\n",
       "      <td>0.27</td>\n",
       "    </tr>\n",
       "    <tr>\n",
       "      <th>7</th>\n",
       "      <td>Oneplus Technology (Shenzhen) Co Ltd</td>\n",
       "      <td>342</td>\n",
       "      <td>0.23</td>\n",
       "    </tr>\n",
       "    <tr>\n",
       "      <th>8</th>\n",
       "      <td>Asustek</td>\n",
       "      <td>285</td>\n",
       "      <td>0.19</td>\n",
       "    </tr>\n",
       "    <tr>\n",
       "      <th>9</th>\n",
       "      <td>Lenovo</td>\n",
       "      <td>254</td>\n",
       "      <td>0.17</td>\n",
       "    </tr>\n",
       "  </tbody>\n",
       "</table>\n",
       "</div>"
      ],
      "text/plain": [
       "                   Handset Manufacturer  Count  Percentage\n",
       "0                                 Apple  59565       39.86\n",
       "1                               Samsung  40839       27.33\n",
       "2                                Huawei  34423       23.04\n",
       "3                             undefined   8987        6.01\n",
       "4         Sony Mobile Communications Ab    980        0.66\n",
       "5                      Wiko Global Sasu    747        0.50\n",
       "6          Xiaomi Communications Co Ltd    397        0.27\n",
       "7  Oneplus Technology (Shenzhen) Co Ltd    342        0.23\n",
       "8                               Asustek    285        0.19\n",
       "9                                Lenovo    254        0.17"
      ]
     },
     "execution_count": 18,
     "metadata": {},
     "output_type": "execute_result"
    }
   ],
   "source": [
    "# Simple Tabulation for Handset Manufacturer\n",
    "print(\"--- Simple Tabulation for Handset Manufacturer ---\")\n",
    "counts_manufacturer = df_relevant['Handset Manufacturer'].value_counts()\n",
    "total_manufacturer = counts_manufacturer.sum()\n",
    "percentages_manufacturer = counts_manufacturer.apply(lambda x: round((x / total_manufacturer) * 100, 2))\n",
    "\n",
    "result_manufacturer = pd.DataFrame({'Handset Manufacturer': counts_manufacturer.index, 'Count': counts_manufacturer.values, 'Percentage': percentages_manufacturer.values})\n",
    "result_manufacturer.head(10)"
   ]
  },
  {
   "cell_type": "code",
   "execution_count": 19,
   "metadata": {},
   "outputs": [
    {
     "name": "stdout",
     "output_type": "stream",
     "text": [
      "--- Simple Tabulation for Handset Type ---\n"
     ]
    }
   ],
   "source": [
    "# Simple Tabulation for Handset Type\n",
    "print(\"--- Simple Tabulation for Handset Type ---\")\n",
    "counts_type = df_relevant['Handset Type'].value_counts()\n",
    "total_type = counts_type.sum()\n",
    "percentages_type = counts_type.apply(lambda x: round((x / total_type) * 100, 2))\n",
    "\n",
    "result_type = pd.DataFrame({'Handset Type': counts_type.index, 'Count': counts_type.values, 'Percentage': percentages_type.values})\n",
    "top_10_result = result_type.head(10)"
   ]
  },
  {
   "cell_type": "code",
   "execution_count": 20,
   "metadata": {},
   "outputs": [
    {
     "data": {
      "image/png": "[encoded data removed]",
      "text/plain": [
       "<Figure size 1000x600 with 1 Axes>"
      ]
     },
     "metadata": {},
     "output_type": "display_data"
    }
   ],
   "source": [
    "# Sort by count in ascending order\n",
    "top_10_result = top_10_result.sort_values(by='Count', ascending=True)\n",
    "\n",
    "# Create a horizontal bar chart\n",
    "plt.figure(figsize=(10, 6))\n",
    "plt.barh(top_10_result['Handset Type'], top_10_result['Count'], color='skyblue')\n",
    "plt.title('Top 10 Handset Types (Count)')\n",
    "plt.tight_layout()\n",
    "plt.show()"
   ]
  },
  {
   "cell_type": "code",
   "execution_count": 21,
   "metadata": {},
   "outputs": [
    {
     "name": "stdout",
     "output_type": "stream",
     "text": [
      "--- Simple Tabulation for Last Location Name ---\n",
      "          Last Location Name  Count  Percentage\n",
      "0                    D41377B     80        0.05\n",
      "1                    D17085A     59        0.04\n",
      "2                    D72396C     57        0.04\n",
      "3      9.16456698599501E+015     55        0.04\n",
      "4                    D73604C     55        0.04\n",
      "...                      ...    ...         ...\n",
      "45542                T79480A      1        0.00\n",
      "45543                T10447C      1        0.00\n",
      "45544                T37799B      1        0.00\n",
      "45545                T79346B      1        0.00\n",
      "45546                L88342B      1        0.00\n",
      "\n",
      "[45547 rows x 3 columns]\n"
     ]
    }
   ],
   "source": [
    "# Simple Tabulation for Last Location Name\n",
    "print(\"--- Simple Tabulation for Last Location Name ---\")\n",
    "counts_location = df_relevant['Last Location Name'].value_counts()\n",
    "total_location = counts_location.sum()\n",
    "percentages_location = counts_location.apply(lambda x: round((x / total_location) * 100, 2))\n",
    "\n",
    "result_location = pd.DataFrame({'Last Location Name': counts_location.index, 'Count': counts_location.values, 'Percentage': percentages_location.values})\n",
    "\n",
    "print(result_location)"
   ]
  },
  {
   "cell_type": "code",
   "execution_count": 22,
   "metadata": {},
   "outputs": [
    {
     "name": "stdout",
     "output_type": "stream",
     "text": [
      "Minimum Date: 2019-04-04 12:01:00\n",
      "Maximum Date: 2019-04-29 07:28:00\n"
     ]
    }
   ],
   "source": [
    "# Convert the date column to datetime format for accurate comparison\n",
    "date_column = pd.to_datetime(df['Start'])\n",
    "\n",
    "# Find the minimum and maximum dates\n",
    "min_date = date_column.min()\n",
    "max_date = date_column.max()\n",
    "\n",
    "print(\"Minimum Date:\", min_date)\n",
    "print(\"Maximum Date:\", max_date)"
   ]
  },
  {
   "cell_type": "code",
   "execution_count": 23,
   "metadata": {},
   "outputs": [],
   "source": [
    "# Function to list top 5 handset types for a given manufacturer\n",
    "def top_handsets_for_manufacturer(manufacturer):\n",
    "    df_manufacturer = df_relevant[df_relevant['Handset Manufacturer'] == manufacturer]\n",
    "    top_handsets = df_manufacturer['Handset Type'].value_counts().head(5)\n",
    "    top_handsets_percentage = (top_handsets / top_handsets.sum()) * 100\n",
    "    result_top_handsets = pd.DataFrame({'Handset Type': top_handsets.index, 'Count': top_handsets.values, 'Percentage': top_handsets_percentage.values})\n",
    "    return result_top_handsets"
   ]
  },
  {
   "cell_type": "code",
   "execution_count": 24,
   "metadata": {},
   "outputs": [],
   "source": [
    "manufacturer = 'Samsung'  # Enter the top manufacturer here\n",
    "top_handsets_df = top_handsets_for_manufacturer(manufacturer)\n",
    "samsung_handsets = top_handsets_df.head(5)\n",
    "samsung_handsets_count = samsung_handsets['Count']\n",
    "samsung_handsets_type = samsung_handsets['Handset Type']"
   ]
  },
  {
   "cell_type": "code",
   "execution_count": 25,
   "metadata": {},
   "outputs": [
    {
     "data": {
      "image/png": "[encoded data removed]",
      "text/plain": [
       "<Figure size 600x300 with 1 Axes>"
      ]
     },
     "metadata": {},
     "output_type": "display_data"
    }
   ],
   "source": [
    "# Sort by count in ascending order\n",
    "samsung_top_5_result = samsung_handsets.sort_values(by='Count', ascending=True)\n",
    "\n",
    "# Create a horizontal bar chart\n",
    "plt.figure(figsize=(6, 3))\n",
    "plt.barh(samsung_top_5_result['Handset Type'], samsung_top_5_result['Count'], color='green')\n",
    "plt.title('Top 5 Handset Types of Samsung')\n",
    "plt.tight_layout()\n",
    "plt.show()"
   ]
  },
  {
   "cell_type": "code",
   "execution_count": 26,
   "metadata": {},
   "outputs": [],
   "source": [
    "manufacturer = 'Apple'  # Enter the top manufacturer here\n",
    "top_handsets_df = top_handsets_for_manufacturer(manufacturer)\n",
    "apple_handsets = top_handsets_df.head(5)\n",
    "apple_handsets_count = apple_handsets['Count']\n",
    "apple_handsets_type = apple_handsets['Handset Type']"
   ]
  },
  {
   "cell_type": "code",
   "execution_count": 27,
   "metadata": {},
   "outputs": [
    {
     "data": {
      "image/png": "[encoded data removed]",
      "text/plain": [
       "<Figure size 600x300 with 1 Axes>"
      ]
     },
     "metadata": {},
     "output_type": "display_data"
    }
   ],
   "source": [
    "# Sort by count in ascending order\n",
    "apple_top_5_result = apple_handsets.sort_values(by='Count', ascending=True)\n",
    "\n",
    "# Create a horizontal bar chart\n",
    "plt.figure(figsize=(6, 3))\n",
    "plt.barh(apple_top_5_result['Handset Type'], apple_top_5_result['Count'], color='brown')\n",
    "plt.title('Top 5 Handset Types of Apple')\n",
    "plt.tight_layout()\n",
    "plt.show()"
   ]
  },
  {
   "cell_type": "code",
   "execution_count": 28,
   "metadata": {},
   "outputs": [],
   "source": [
    "manufacturer = 'Huawei'  # Enter the top manufacturer here\n",
    "top_handsets_df = top_handsets_for_manufacturer(manufacturer)\n",
    "huawei_handsets = top_handsets_df.head(5)\n",
    "huawei_handsets_count = huawei_handsets['Count']\n",
    "huawei_handsets_type = huawei_handsets['Handset Type']"
   ]
  },
  {
   "cell_type": "code",
   "execution_count": 29,
   "metadata": {},
   "outputs": [
    {
     "data": {
      "image/png": "[encoded data removed]",
      "text/plain": [
       "<Figure size 600x300 with 1 Axes>"
      ]
     },
     "metadata": {},
     "output_type": "display_data"
    }
   ],
   "source": [
    "# Sort by count in ascending order\n",
    "huawei_top_5_result = huawei_handsets.sort_values(by='Count', ascending=True)\n",
    "\n",
    "# Create a horizontal bar chart\n",
    "plt.figure(figsize=(6, 3))\n",
    "plt.barh(huawei_top_5_result['Handset Type'], huawei_top_5_result['Count'], color='grey')\n",
    "plt.title('Top 5 Handset Types of Huawei')\n",
    "plt.tight_layout()\n",
    "plt.show()"
   ]
  },
  {
   "cell_type": "markdown",
   "metadata": {},
   "source": [
    "#### For Numerical data"
   ]
  },
  {
   "cell_type": "code",
   "execution_count": 30,
   "metadata": {},
   "outputs": [],
   "source": [
    "# Numerical variables descriptive summary\n",
    "numerical_columns = ['Total Data (Mb)', 'Avg Bearer TP (Mbps)',\n",
    "                     'TCP Retrans. Vol (Mb)', 'Avg RTT (sec)', 'Dur. (hr)',\n",
    "                     'Gaming Data (Mb)', 'Netflix Data (Mb)', 'Email Data (Mb)', 'Google Data (Mb)', 'Youtube Data (Mb)', 'Social Media Data (Mb)', 'Other Data (Mb)']"
   ]
  },
  {
   "cell_type": "code",
   "execution_count": 31,
   "metadata": {},
   "outputs": [
    {
     "data": {
      "text/html": [
       "<div>\n",
       "<style scoped>\n",
       "    .dataframe tbody tr th:only-of-type {\n",
       "        vertical-align: middle;\n",
       "    }\n",
       "\n",
       "    .dataframe tbody tr th {\n",
       "        vertical-align: top;\n",
       "    }\n",
       "\n",
       "    .dataframe thead th {\n",
       "        text-align: right;\n",
       "    }\n",
       "</style>\n",
       "<table border=\"1\" class=\"dataframe\">\n",
       "  <thead>\n",
       "    <tr style=\"text-align: right;\">\n",
       "      <th></th>\n",
       "      <th>Total Data (Mb)</th>\n",
       "      <th>Avg Bearer TP (Mbps)</th>\n",
       "      <th>TCP Retrans. Vol (Mb)</th>\n",
       "      <th>Avg RTT (sec)</th>\n",
       "      <th>Dur. (hr)</th>\n",
       "      <th>Gaming Data (Mb)</th>\n",
       "      <th>Netflix Data (Mb)</th>\n",
       "      <th>Email Data (Mb)</th>\n",
       "      <th>Google Data (Mb)</th>\n",
       "      <th>Youtube Data (Mb)</th>\n",
       "      <th>Social Media Data (Mb)</th>\n",
       "      <th>Other Data (Mb)</th>\n",
       "    </tr>\n",
       "  </thead>\n",
       "  <tbody>\n",
       "    <tr>\n",
       "      <th>count</th>\n",
       "      <td>150001.000000</td>\n",
       "      <td>150001.000000</td>\n",
       "      <td>150001.000000</td>\n",
       "      <td>150001.000000</td>\n",
       "      <td>150001.000000</td>\n",
       "      <td>150001.000000</td>\n",
       "      <td>150001.000000</td>\n",
       "      <td>150001.000000</td>\n",
       "      <td>150001.000000</td>\n",
       "      <td>150001.000000</td>\n",
       "      <td>150001.000000</td>\n",
       "      <td>150001.000000</td>\n",
       "    </tr>\n",
       "    <tr>\n",
       "      <th>mean</th>\n",
       "      <td>472.798001</td>\n",
       "      <td>14.717260</td>\n",
       "      <td>20.570348</td>\n",
       "      <td>0.127459</td>\n",
       "      <td>29.058085</td>\n",
       "      <td>410.397626</td>\n",
       "      <td>21.580321</td>\n",
       "      <td>2.154448</td>\n",
       "      <td>7.445616</td>\n",
       "      <td>21.594508</td>\n",
       "      <td>1.743555</td>\n",
       "      <td>409.474701</td>\n",
       "    </tr>\n",
       "    <tr>\n",
       "      <th>std</th>\n",
       "      <td>233.059871</td>\n",
       "      <td>26.197026</td>\n",
       "      <td>112.952429</td>\n",
       "      <td>0.565145</td>\n",
       "      <td>22.510373</td>\n",
       "      <td>232.715534</td>\n",
       "      <td>8.831806</td>\n",
       "      <td>1.021489</td>\n",
       "      <td>3.353520</td>\n",
       "      <td>8.818436</td>\n",
       "      <td>0.987669</td>\n",
       "      <td>231.998513</td>\n",
       "    </tr>\n",
       "    <tr>\n",
       "      <th>min</th>\n",
       "      <td>27.614696</td>\n",
       "      <td>0.000000</td>\n",
       "      <td>0.000082</td>\n",
       "      <td>0.000000</td>\n",
       "      <td>1.984163</td>\n",
       "      <td>0.292166</td>\n",
       "      <td>0.093872</td>\n",
       "      <td>0.007972</td>\n",
       "      <td>0.038462</td>\n",
       "      <td>0.075248</td>\n",
       "      <td>0.001491</td>\n",
       "      <td>0.142140</td>\n",
       "    </tr>\n",
       "    <tr>\n",
       "      <th>25%</th>\n",
       "      <td>271.297876</td>\n",
       "      <td>0.087891</td>\n",
       "      <td>1.423310</td>\n",
       "      <td>0.040000</td>\n",
       "      <td>15.956127</td>\n",
       "      <td>208.595218</td>\n",
       "      <td>15.239196</td>\n",
       "      <td>1.296371</td>\n",
       "      <td>4.714583</td>\n",
       "      <td>15.257323</td>\n",
       "      <td>0.889032</td>\n",
       "      <td>208.428781</td>\n",
       "    </tr>\n",
       "    <tr>\n",
       "      <th>50%</th>\n",
       "      <td>473.843569</td>\n",
       "      <td>0.122070</td>\n",
       "      <td>20.570348</td>\n",
       "      <td>0.067000</td>\n",
       "      <td>23.999995</td>\n",
       "      <td>411.620118</td>\n",
       "      <td>21.586938</td>\n",
       "      <td>2.158706</td>\n",
       "      <td>7.450900</td>\n",
       "      <td>21.611948</td>\n",
       "      <td>1.741858</td>\n",
       "      <td>410.067074</td>\n",
       "    </tr>\n",
       "    <tr>\n",
       "      <th>75%</th>\n",
       "      <td>673.776065</td>\n",
       "      <td>21.824219</td>\n",
       "      <td>20.570348</td>\n",
       "      <td>0.127459</td>\n",
       "      <td>36.786302</td>\n",
       "      <td>611.701849</td>\n",
       "      <td>27.933545</td>\n",
       "      <td>3.013437</td>\n",
       "      <td>10.187908</td>\n",
       "      <td>27.935604</td>\n",
       "      <td>2.601134</td>\n",
       "      <td>610.282416</td>\n",
       "    </tr>\n",
       "    <tr>\n",
       "      <th>max</th>\n",
       "      <td>911.698128</td>\n",
       "      <td>373.302734</td>\n",
       "      <td>4142.871524</td>\n",
       "      <td>96.924000</td>\n",
       "      <td>516.482345</td>\n",
       "      <td>819.399628</td>\n",
       "      <td>43.104318</td>\n",
       "      <td>4.308735</td>\n",
       "      <td>14.809401</td>\n",
       "      <td>43.096617</td>\n",
       "      <td>3.481732</td>\n",
       "      <td>819.703039</td>\n",
       "    </tr>\n",
       "  </tbody>\n",
       "</table>\n",
       "</div>"
      ],
      "text/plain": [
       "       Total Data (Mb)  Avg Bearer TP (Mbps)  TCP Retrans. Vol (Mb)  \\\n",
       "count    150001.000000         150001.000000          150001.000000   \n",
       "mean        472.798001             14.717260              20.570348   \n",
       "std         233.059871             26.197026             112.952429   \n",
       "min          27.614696              0.000000               0.000082   \n",
       "25%         271.297876              0.087891               1.423310   \n",
       "50%         473.843569              0.122070              20.570348   \n",
       "75%         673.776065             21.824219              20.570348   \n",
       "max         911.698128            373.302734            4142.871524   \n",
       "\n",
       "       Avg RTT (sec)      Dur. (hr)  Gaming Data (Mb)  Netflix Data (Mb)  \\\n",
       "count  150001.000000  150001.000000     150001.000000      150001.000000   \n",
       "mean        0.127459      29.058085        410.397626          21.580321   \n",
       "std         0.565145      22.510373        232.715534           8.831806   \n",
       "min         0.000000       1.984163          0.292166           0.093872   \n",
       "25%         0.040000      15.956127        208.595218          15.239196   \n",
       "50%         0.067000      23.999995        411.620118          21.586938   \n",
       "75%         0.127459      36.786302        611.701849          27.933545   \n",
       "max        96.924000     516.482345        819.399628          43.104318   \n",
       "\n",
       "       Email Data (Mb)  Google Data (Mb)  Youtube Data (Mb)  \\\n",
       "count    150001.000000     150001.000000      150001.000000   \n",
       "mean          2.154448          7.445616          21.594508   \n",
       "std           1.021489          3.353520           8.818436   \n",
       "min           0.007972          0.038462           0.075248   \n",
       "25%           1.296371          4.714583          15.257323   \n",
       "50%           2.158706          7.450900          21.611948   \n",
       "75%           3.013437         10.187908          27.935604   \n",
       "max           4.308735         14.809401          43.096617   \n",
       "\n",
       "       Social Media Data (Mb)  Other Data (Mb)  \n",
       "count           150001.000000    150001.000000  \n",
       "mean                 1.743555       409.474701  \n",
       "std                  0.987669       231.998513  \n",
       "min                  0.001491         0.142140  \n",
       "25%                  0.889032       208.428781  \n",
       "50%                  1.741858       410.067074  \n",
       "75%                  2.601134       610.282416  \n",
       "max                  3.481732       819.703039  "
      ]
     },
     "execution_count": 31,
     "metadata": {},
     "output_type": "execute_result"
    }
   ],
   "source": [
    "# Calculate descriptive statistics\n",
    "df_descriptions = df_relevant[numerical_columns].describe()\n",
    "df_descriptions"
   ]
  },
  {
   "cell_type": "code",
   "execution_count": 32,
   "metadata": {},
   "outputs": [
    {
     "data": {
      "text/plain": [
       "Total Data (Mb)           126.525368\n",
       "Avg Bearer TP (Mbps)        0.061523\n",
       "TCP Retrans. Vol (Mb)      20.570348\n",
       "Avg RTT (sec)               0.127459\n",
       "Dur. (hr)                  23.999987\n",
       "Gaming Data (Mb)           14.449388\n",
       "Netflix Data (Mb)           3.044221\n",
       "Email Data (Mb)             0.618928\n",
       "Google Data (Mb)            4.997341\n",
       "Youtube Data (Mb)          17.964172\n",
       "Social Media Data (Mb)      0.147264\n",
       "Other Data (Mb)            51.533755\n",
       "Name: 0, dtype: float64"
      ]
     },
     "execution_count": 32,
     "metadata": {},
     "output_type": "execute_result"
    }
   ],
   "source": [
    "# Calculate mode\n",
    "mode_values = df_relevant[numerical_columns].mode().iloc[0]\n",
    "mode_values.head(20)"
   ]
  },
  {
   "cell_type": "code",
   "execution_count": 33,
   "metadata": {},
   "outputs": [
    {
     "data": {
      "text/plain": [
       "Total Data (Mb)           473.843569\n",
       "Avg Bearer TP (Mbps)        0.122070\n",
       "TCP Retrans. Vol (Mb)      20.570348\n",
       "Avg RTT (sec)               0.067000\n",
       "Dur. (hr)                  23.999995\n",
       "Gaming Data (Mb)          411.620118\n",
       "Netflix Data (Mb)          21.586938\n",
       "Email Data (Mb)             2.158706\n",
       "Google Data (Mb)            7.450900\n",
       "Youtube Data (Mb)          21.611948\n",
       "Social Media Data (Mb)      1.741858\n",
       "Other Data (Mb)           410.067074\n",
       "dtype: float64"
      ]
     },
     "execution_count": 33,
     "metadata": {},
     "output_type": "execute_result"
    }
   ],
   "source": [
    "# Assuming df_relevant is your DataFrame and numerical_columns is a list of numerical column names\n",
    "median_values = df_relevant[numerical_columns].median()\n",
    "median_values.head(20)  # Displaying the median values for the first 20 columns"
   ]
  },
  {
   "cell_type": "code",
   "execution_count": 34,
   "metadata": {},
   "outputs": [
    {
     "data": {
      "text/plain": [
       "Total Data (Mb)            884.083432\n",
       "Avg Bearer TP (Mbps)       373.302734\n",
       "TCP Retrans. Vol (Mb)     4142.871442\n",
       "Avg RTT (sec)               96.924000\n",
       "Dur. (hr)                  514.498182\n",
       "Gaming Data (Mb)           819.107462\n",
       "Netflix Data (Mb)           43.010446\n",
       "Email Data (Mb)              4.300763\n",
       "Google Data (Mb)            14.770939\n",
       "Youtube Data (Mb)           43.021369\n",
       "Social Media Data (Mb)       3.480242\n",
       "Other Data (Mb)            819.560899\n",
       "dtype: float64"
      ]
     },
     "execution_count": 34,
     "metadata": {},
     "output_type": "execute_result"
    }
   ],
   "source": [
    "# Calculate range\n",
    "range_values = df_relevant[numerical_columns].max() - df_relevant[numerical_columns].min()\n",
    "range_values.head(20)"
   ]
  },
  {
   "cell_type": "code",
   "execution_count": 35,
   "metadata": {},
   "outputs": [
    {
     "data": {
      "text/plain": [
       "Total Data (Mb)           -0.002457\n",
       "Avg Bearer TP (Mbps)       2.493325\n",
       "TCP Retrans. Vol (Mb)     24.466624\n",
       "Avg RTT (sec)             67.660544\n",
       "Dur. (hr)                  3.952622\n",
       "Gaming Data (Mb)          -0.003225\n",
       "Netflix Data (Mb)         -0.000409\n",
       "Email Data (Mb)           -0.006033\n",
       "Google Data (Mb)          -0.010602\n",
       "Youtube Data (Mb)         -0.005465\n",
       "Social Media Data (Mb)    -0.002121\n",
       "Other Data (Mb)            0.001256\n",
       "dtype: float64"
      ]
     },
     "execution_count": 35,
     "metadata": {},
     "output_type": "execute_result"
    }
   ],
   "source": [
    "# Calculate skewness\n",
    "skewness_values = df_relevant[numerical_columns].skew()\n",
    "skewness_values.head(20)"
   ]
  },
  {
   "cell_type": "code",
   "execution_count": 36,
   "metadata": {},
   "outputs": [
    {
     "data": {
      "text/plain": [
       "Total Data (Mb)           7.092017e+07\n",
       "Avg Bearer TP (Mbps)      2.207604e+06\n",
       "TCP Retrans. Vol (Mb)     3.085573e+06\n",
       "Avg RTT (sec)             1.911892e+04\n",
       "Dur. (hr)                 4.358742e+06\n",
       "Gaming Data (Mb)          6.156005e+07\n",
       "Netflix Data (Mb)         3.237070e+06\n",
       "Email Data (Mb)           3.231693e+05\n",
       "Google Data (Mb)          1.116850e+06\n",
       "Youtube Data (Mb)         3.239198e+06\n",
       "Social Media Data (Mb)    2.615350e+05\n",
       "Other Data (Mb)           6.142161e+07\n",
       "dtype: float64"
      ]
     },
     "execution_count": 36,
     "metadata": {},
     "output_type": "execute_result"
    }
   ],
   "source": [
    "# Calculate sum\n",
    "sum_values = df_relevant[numerical_columns].sum()\n",
    "sum_values.head(20)"
   ]
  },
  {
   "cell_type": "code",
   "execution_count": 37,
   "metadata": {},
   "outputs": [
    {
     "name": "stdout",
     "output_type": "stream",
     "text": [
      "106857\n"
     ]
    }
   ],
   "source": [
    "# calculate total number of customers \n",
    "unique_msisdn_numbers = df_relevant['MSISDN/Number'].unique()\n",
    "print(len(unique_msisdn_numbers))"
   ]
  },
  {
   "cell_type": "code",
   "execution_count": 38,
   "metadata": {},
   "outputs": [
    {
     "name": "stdout",
     "output_type": "stream",
     "text": [
      "45548\n"
     ]
    }
   ],
   "source": [
    "# calculate total number of customers \n",
    "unique_locations = df_relevant['Last Location Name'].unique()\n",
    "print(len(unique_locations))"
   ]
  },
  {
   "cell_type": "markdown",
   "metadata": {},
   "source": [
    "## User Overview"
   ]
  },
  {
   "cell_type": "markdown",
   "metadata": {},
   "source": [
    "#### Aggregating User Behavior Data"
   ]
  },
  {
   "cell_type": "code",
   "execution_count": 39,
   "metadata": {},
   "outputs": [
    {
     "data": {
      "text/html": [
       "<div>\n",
       "<style scoped>\n",
       "    .dataframe tbody tr th:only-of-type {\n",
       "        vertical-align: middle;\n",
       "    }\n",
       "\n",
       "    .dataframe tbody tr th {\n",
       "        vertical-align: top;\n",
       "    }\n",
       "\n",
       "    .dataframe thead th {\n",
       "        text-align: right;\n",
       "    }\n",
       "</style>\n",
       "<table border=\"1\" class=\"dataframe\">\n",
       "  <thead>\n",
       "    <tr style=\"text-align: right;\">\n",
       "      <th></th>\n",
       "      <th>Number of Sessions</th>\n",
       "      <th>Total Data (Mb)</th>\n",
       "      <th>Social Media Data (Mb)</th>\n",
       "      <th>Google Data (Mb)</th>\n",
       "      <th>Email Data (Mb)</th>\n",
       "      <th>Youtube Data (Mb)</th>\n",
       "      <th>Netflix Data (Mb)</th>\n",
       "      <th>Gaming Data (Mb)</th>\n",
       "      <th>Other Data (Mb)</th>\n",
       "      <th>Avg Bearer TP (Mbps)</th>\n",
       "      <th>TCP Retrans. Vol (Mb)</th>\n",
       "      <th>Avg RTT (sec)</th>\n",
       "      <th>Dur. (hr)</th>\n",
       "    </tr>\n",
       "    <tr>\n",
       "      <th>MSISDN/Number</th>\n",
       "      <th></th>\n",
       "      <th></th>\n",
       "      <th></th>\n",
       "      <th></th>\n",
       "      <th></th>\n",
       "      <th></th>\n",
       "      <th></th>\n",
       "      <th></th>\n",
       "      <th></th>\n",
       "      <th></th>\n",
       "      <th></th>\n",
       "      <th></th>\n",
       "      <th></th>\n",
       "    </tr>\n",
       "  </thead>\n",
       "  <tbody>\n",
       "    <tr>\n",
       "      <th>3.367548e+10</th>\n",
       "      <td>1</td>\n",
       "      <td>36.260945</td>\n",
       "      <td>0.058599</td>\n",
       "      <td>1.534470</td>\n",
       "      <td>0.718514</td>\n",
       "      <td>23.149885</td>\n",
       "      <td>4.396620</td>\n",
       "      <td>5.576456</td>\n",
       "      <td>170.025167</td>\n",
       "      <td>46.547852</td>\n",
       "      <td>0.054556</td>\n",
       "      <td>0.044000</td>\n",
       "      <td>10.658788</td>\n",
       "    </tr>\n",
       "    <tr>\n",
       "      <th>3.378251e+10</th>\n",
       "      <td>1</td>\n",
       "      <td>36.172143</td>\n",
       "      <td>1.374470</td>\n",
       "      <td>1.511680</td>\n",
       "      <td>0.919835</td>\n",
       "      <td>10.496247</td>\n",
       "      <td>7.954366</td>\n",
       "      <td>11.304402</td>\n",
       "      <td>362.053472</td>\n",
       "      <td>0.103516</td>\n",
       "      <td>20.570348</td>\n",
       "      <td>0.045000</td>\n",
       "      <td>28.524947</td>\n",
       "    </tr>\n",
       "    <tr>\n",
       "      <th>3.366668e+10</th>\n",
       "      <td>1</td>\n",
       "      <td>32.424568</td>\n",
       "      <td>0.715888</td>\n",
       "      <td>4.138419</td>\n",
       "      <td>2.457558</td>\n",
       "      <td>3.745266</td>\n",
       "      <td>16.630870</td>\n",
       "      <td>1.889071</td>\n",
       "      <td>284.862541</td>\n",
       "      <td>0.100586</td>\n",
       "      <td>20.570348</td>\n",
       "      <td>0.127459</td>\n",
       "      <td>52.866856</td>\n",
       "    </tr>\n",
       "    <tr>\n",
       "      <th>3.366132e+10</th>\n",
       "      <td>1</td>\n",
       "      <td>32.020416</td>\n",
       "      <td>0.594598</td>\n",
       "      <td>3.050110</td>\n",
       "      <td>3.492670</td>\n",
       "      <td>9.878783</td>\n",
       "      <td>3.051894</td>\n",
       "      <td>9.732025</td>\n",
       "      <td>444.053609</td>\n",
       "      <td>0.081055</td>\n",
       "      <td>20.570348</td>\n",
       "      <td>0.031000</td>\n",
       "      <td>46.165176</td>\n",
       "    </tr>\n",
       "    <tr>\n",
       "      <th>3.365920e+10</th>\n",
       "      <td>1</td>\n",
       "      <td>31.708726</td>\n",
       "      <td>1.218530</td>\n",
       "      <td>3.899412</td>\n",
       "      <td>0.309261</td>\n",
       "      <td>12.075002</td>\n",
       "      <td>6.665761</td>\n",
       "      <td>6.733036</td>\n",
       "      <td>487.673726</td>\n",
       "      <td>0.303711</td>\n",
       "      <td>19.846355</td>\n",
       "      <td>0.077000</td>\n",
       "      <td>11.904702</td>\n",
       "    </tr>\n",
       "  </tbody>\n",
       "</table>\n",
       "</div>"
      ],
      "text/plain": [
       "               Number of Sessions  Total Data (Mb)  Social Media Data (Mb)  \\\n",
       "MSISDN/Number                                                                \n",
       "3.367548e+10                    1        36.260945                0.058599   \n",
       "3.378251e+10                    1        36.172143                1.374470   \n",
       "3.366668e+10                    1        32.424568                0.715888   \n",
       "3.366132e+10                    1        32.020416                0.594598   \n",
       "3.365920e+10                    1        31.708726                1.218530   \n",
       "\n",
       "               Google Data (Mb)  Email Data (Mb)  Youtube Data (Mb)  \\\n",
       "MSISDN/Number                                                         \n",
       "3.367548e+10           1.534470         0.718514          23.149885   \n",
       "3.378251e+10           1.511680         0.919835          10.496247   \n",
       "3.366668e+10           4.138419         2.457558           3.745266   \n",
       "3.366132e+10           3.050110         3.492670           9.878783   \n",
       "3.365920e+10           3.899412         0.309261          12.075002   \n",
       "\n",
       "               Netflix Data (Mb)  Gaming Data (Mb)  Other Data (Mb)  \\\n",
       "MSISDN/Number                                                         \n",
       "3.367548e+10            4.396620          5.576456       170.025167   \n",
       "3.378251e+10            7.954366         11.304402       362.053472   \n",
       "3.366668e+10           16.630870          1.889071       284.862541   \n",
       "3.366132e+10            3.051894          9.732025       444.053609   \n",
       "3.365920e+10            6.665761          6.733036       487.673726   \n",
       "\n",
       "               Avg Bearer TP (Mbps)  TCP Retrans. Vol (Mb)  Avg RTT (sec)  \\\n",
       "MSISDN/Number                                                               \n",
       "3.367548e+10              46.547852               0.054556       0.044000   \n",
       "3.378251e+10               0.103516              20.570348       0.045000   \n",
       "3.366668e+10               0.100586              20.570348       0.127459   \n",
       "3.366132e+10               0.081055              20.570348       0.031000   \n",
       "3.365920e+10               0.303711              19.846355       0.077000   \n",
       "\n",
       "               Dur. (hr)  \n",
       "MSISDN/Number             \n",
       "3.367548e+10   10.658788  \n",
       "3.378251e+10   28.524947  \n",
       "3.366668e+10   52.866856  \n",
       "3.366132e+10   46.165176  \n",
       "3.365920e+10   11.904702  "
      ]
     },
     "execution_count": 39,
     "metadata": {},
     "output_type": "execute_result"
    }
   ],
   "source": [
    "# Step 1: Group by user\n",
    "grouped_data = df_relevant.groupby('MSISDN/Number')\n",
    "\n",
    "# Step 2: Compute aggregates\n",
    "user_behavior_summary = grouped_data.agg({\n",
    "    'Bearer Id': 'count',\n",
    "    'Total Data (Mb)': 'sum',\n",
    "    'Social Media Data (Mb)': 'sum',\n",
    "    'Google Data (Mb)': 'sum',\n",
    "    'Email Data (Mb)': 'sum',\n",
    "    'Youtube Data (Mb)': 'sum',\n",
    "    'Netflix Data (Mb)': 'sum',\n",
    "    'Gaming Data (Mb)': 'sum',\n",
    "    'Other Data (Mb)': 'sum',\n",
    "    'Avg Bearer TP (Mbps)': 'sum',\n",
    "    'TCP Retrans. Vol (Mb)': 'sum',\n",
    "    'Avg RTT (sec)': 'sum',\n",
    "    'Dur. (hr)': 'sum',\n",
    "\n",
    "})\n",
    "\n",
    "user_behavior_summary.rename(columns={'Bearer Id': 'Number of Sessions'}, inplace=True)\n",
    "\n",
    "# Step 3: Sort by Number of Sessions in descending order\n",
    "user_behavior_summary_sorted = user_behavior_summary.sort_values(by='Total Data (Mb)', ascending=False)\n",
    "\n",
    "\n",
    "# Display the aggregated user behavior data\n",
    "user_behavior_summary_sorted.head(5)\n",
    "user_behavior_summary_sorted.tail(5)"
   ]
  },
  {
   "cell_type": "markdown",
   "metadata": {},
   "source": [
    "#### divide users based on session duration"
   ]
  },
  {
   "cell_type": "code",
   "execution_count": 40,
   "metadata": {},
   "outputs": [
    {
     "name": "stderr",
     "output_type": "stream",
     "text": [
      "/tmp/ipykernel_15569/514096812.py:5: FutureWarning: The default of observed=False is deprecated and will be changed to True in a future version of pandas. Pass observed=False to retain current behavior or observed=True to adopt the future default and silence this warning.\n",
      "  usage_analysis = df.groupby('Session Category').agg({'Total Data (Mb)': 'sum', 'MSISDN/Number': 'nunique'})\n"
     ]
    },
    {
     "data": {
      "text/html": [
       "<div>\n",
       "<style scoped>\n",
       "    .dataframe tbody tr th:only-of-type {\n",
       "        vertical-align: middle;\n",
       "    }\n",
       "\n",
       "    .dataframe tbody tr th {\n",
       "        vertical-align: top;\n",
       "    }\n",
       "\n",
       "    .dataframe thead th {\n",
       "        text-align: right;\n",
       "    }\n",
       "</style>\n",
       "<table border=\"1\" class=\"dataframe\">\n",
       "  <thead>\n",
       "    <tr style=\"text-align: right;\">\n",
       "      <th></th>\n",
       "      <th>Total Data Sum (Mb)</th>\n",
       "      <th>Unique Customers Count</th>\n",
       "      <th>Total Data Percentage</th>\n",
       "      <th>Unique Customers Percentage</th>\n",
       "    </tr>\n",
       "    <tr>\n",
       "      <th>Session Category</th>\n",
       "      <th></th>\n",
       "      <th></th>\n",
       "      <th></th>\n",
       "      <th></th>\n",
       "    </tr>\n",
       "  </thead>\n",
       "  <tbody>\n",
       "    <tr>\n",
       "      <th>Short</th>\n",
       "      <td>4.700874e+07</td>\n",
       "      <td>73369</td>\n",
       "      <td>66.284019</td>\n",
       "      <td>62.484777</td>\n",
       "    </tr>\n",
       "    <tr>\n",
       "      <th>Medium</th>\n",
       "      <td>1.906128e+07</td>\n",
       "      <td>35769</td>\n",
       "      <td>26.877094</td>\n",
       "      <td>30.462702</td>\n",
       "    </tr>\n",
       "    <tr>\n",
       "      <th>Long</th>\n",
       "      <td>4.850151e+06</td>\n",
       "      <td>8281</td>\n",
       "      <td>6.838887</td>\n",
       "      <td>7.052521</td>\n",
       "    </tr>\n",
       "  </tbody>\n",
       "</table>\n",
       "</div>"
      ],
      "text/plain": [
       "                  Total Data Sum (Mb)  Unique Customers Count  \\\n",
       "Session Category                                                \n",
       "Short                    4.700874e+07                   73369   \n",
       "Medium                   1.906128e+07                   35769   \n",
       "Long                     4.850151e+06                    8281   \n",
       "\n",
       "                  Total Data Percentage  Unique Customers Percentage  \n",
       "Session Category                                                      \n",
       "Short                         66.284019                    62.484777  \n",
       "Medium                        26.877094                    30.462702  \n",
       "Long                           6.838887                     7.052521  "
      ]
     },
     "execution_count": 40,
     "metadata": {},
     "output_type": "execute_result"
    }
   ],
   "source": [
    "# Define session duration categories\n",
    "df['Session Category'] = pd.cut(df['Dur. (hr)'], bins=[0, 29, 60, float('inf')], labels=['Short', 'Medium', 'Long'])\n",
    "\n",
    "# Group by session category and calculate sum of data usage and count of unique customers\n",
    "usage_analysis = df.groupby('Session Category').agg({'Total Data (Mb)': 'sum', 'MSISDN/Number': 'nunique'})\n",
    "\n",
    "# Rename the columns for clarity\n",
    "usage_analysis = usage_analysis.rename(columns={'Total Data (Mb)': 'Total Data Sum (Mb)', 'MSISDN/Number': 'Unique Customers Count'})\n",
    "\n",
    "# Calculate percentage columns\n",
    "total_data_sum = usage_analysis['Total Data Sum (Mb)'].sum()\n",
    "usage_analysis['Total Data Percentage'] = (usage_analysis['Total Data Sum (Mb)'] / total_data_sum) * 100\n",
    "usage_analysis['Unique Customers Percentage'] = (usage_analysis['Unique Customers Count'] / usage_analysis['Unique Customers Count'].sum()) * 100\n",
    "\n",
    "# Print the results\n",
    "usage_analysis.head(10)"
   ]
  },
  {
   "cell_type": "markdown",
   "metadata": {},
   "source": [
    "#### correlation between all apps data usage"
   ]
  },
  {
   "cell_type": "code",
   "execution_count": 41,
   "metadata": {},
   "outputs": [
    {
     "name": "stdout",
     "output_type": "stream",
     "text": [
      "Correlation Matrix:\n",
      "                        Gaming Data (Mb)  Netflix Data (Mb)  Email Data (Mb)  \\\n",
      "Gaming Data (Mb)                1.000000          -0.003109        -0.000644   \n",
      "Netflix Data (Mb)              -0.003109           1.000000         0.001029   \n",
      "Email Data (Mb)                -0.000644           0.001029         1.000000   \n",
      "Google Data (Mb)               -0.000994          -0.001902        -0.000412   \n",
      "Youtube Data (Mb)              -0.002999           0.002882        -0.002919   \n",
      "Social Media Data (Mb)          0.001082           0.001013         0.004032   \n",
      "Other Data (Mb)                -0.002661          -0.009033        -0.001299   \n",
      "Total Data (Mb)                 0.998254           0.034798         0.003768   \n",
      "\n",
      "                        Google Data (Mb)  Youtube Data (Mb)  \\\n",
      "Gaming Data (Mb)               -0.000994          -0.002999   \n",
      "Netflix Data (Mb)              -0.001902           0.002882   \n",
      "Email Data (Mb)                -0.000412          -0.002919   \n",
      "Google Data (Mb)                1.000000           0.002277   \n",
      "Youtube Data (Mb)               0.002277           1.000000   \n",
      "Social Media Data (Mb)         -0.001708           0.000548   \n",
      "Other Data (Mb)                -0.001727           0.002969   \n",
      "Total Data (Mb)                 0.013370           0.034888   \n",
      "\n",
      "                        Social Media Data (Mb)  Other Data (Mb)  \\\n",
      "Gaming Data (Mb)                      0.001082        -0.002661   \n",
      "Netflix Data (Mb)                     0.001013        -0.009033   \n",
      "Email Data (Mb)                       0.004032        -0.001299   \n",
      "Google Data (Mb)                     -0.001708        -0.001727   \n",
      "Youtube Data (Mb)                     0.000548         0.002969   \n",
      "Social Media Data (Mb)                1.000000         0.006065   \n",
      "Other Data (Mb)                       0.006065         1.000000   \n",
      "Total Data (Mb)                       0.005383        -0.002443   \n",
      "\n",
      "                        Total Data (Mb)  \n",
      "Gaming Data (Mb)               0.998254  \n",
      "Netflix Data (Mb)              0.034798  \n",
      "Email Data (Mb)                0.003768  \n",
      "Google Data (Mb)               0.013370  \n",
      "Youtube Data (Mb)              0.034888  \n",
      "Social Media Data (Mb)         0.005383  \n",
      "Other Data (Mb)               -0.002443  \n",
      "Total Data (Mb)                1.000000  \n"
     ]
    },
    {
     "data": {
      "image/png": "[encoded data removed]",
      "text/plain": [
       "<Figure size 1000x800 with 2 Axes>"
      ]
     },
     "metadata": {},
     "output_type": "display_data"
    }
   ],
   "source": [
    "# Select relevant columns for analysis (specific apps' data usage and total data usage)\n",
    "apps_data_columns = ['Gaming Data (Mb)', 'Netflix Data (Mb)', 'Email Data (Mb)', 'Google Data (Mb)', 'Youtube Data (Mb)', 'Social Media Data (Mb)', 'Other Data (Mb)', 'Total Data (Mb)']\n",
    "apps_data_df = df[apps_data_columns]\n",
    "\n",
    "# Calculate correlation matrix to measure the relationship between variables\n",
    "correlation_matrix = apps_data_df.corr()\n",
    "\n",
    "# Print the correlation matrix\n",
    "print(\"Correlation Matrix:\")\n",
    "print(correlation_matrix)\n",
    "\n",
    "# Plot a heatmap of the correlation matrix for visualization\n",
    "plt.figure(figsize=(10, 8))\n",
    "sns.heatmap(correlation_matrix, annot=True, cmap='coolwarm', fmt=\".2f\", linewidths=0.5)\n",
    "plt.title('Correlation Heatmap')\n",
    "plt.show()"
   ]
  },
  {
   "cell_type": "markdown",
   "metadata": {},
   "source": [
    "## User Engagement analysis"
   ]
  },
  {
   "cell_type": "markdown",
   "metadata": {},
   "source": [
    "### engagement metrics"
   ]
  },
  {
   "cell_type": "code",
   "execution_count": 42,
   "metadata": {},
   "outputs": [
    {
     "data": {
      "text/html": [
       "<div>\n",
       "<style scoped>\n",
       "    .dataframe tbody tr th:only-of-type {\n",
       "        vertical-align: middle;\n",
       "    }\n",
       "\n",
       "    .dataframe tbody tr th {\n",
       "        vertical-align: top;\n",
       "    }\n",
       "\n",
       "    .dataframe thead th {\n",
       "        text-align: right;\n",
       "    }\n",
       "</style>\n",
       "<table border=\"1\" class=\"dataframe\">\n",
       "  <thead>\n",
       "    <tr style=\"text-align: right;\">\n",
       "      <th></th>\n",
       "      <th>Number of Sessions</th>\n",
       "      <th>Total Data (Mb)</th>\n",
       "      <th>Dur. (hr)</th>\n",
       "    </tr>\n",
       "    <tr>\n",
       "      <th>MSISDN/Number</th>\n",
       "      <th></th>\n",
       "      <th></th>\n",
       "      <th></th>\n",
       "    </tr>\n",
       "  </thead>\n",
       "  <tbody>\n",
       "    <tr>\n",
       "      <th>3.365043e+10</th>\n",
       "      <td>1</td>\n",
       "      <td>199.216558</td>\n",
       "      <td>2.018616</td>\n",
       "    </tr>\n",
       "    <tr>\n",
       "      <th>3.369839e+10</th>\n",
       "      <td>1</td>\n",
       "      <td>797.900773</td>\n",
       "      <td>2.016133</td>\n",
       "    </tr>\n",
       "    <tr>\n",
       "      <th>3.365933e+10</th>\n",
       "      <td>1</td>\n",
       "      <td>266.842393</td>\n",
       "      <td>1.996944</td>\n",
       "    </tr>\n",
       "    <tr>\n",
       "      <th>3.366566e+10</th>\n",
       "      <td>1</td>\n",
       "      <td>647.084608</td>\n",
       "      <td>1.985159</td>\n",
       "    </tr>\n",
       "    <tr>\n",
       "      <th>3.376351e+10</th>\n",
       "      <td>1</td>\n",
       "      <td>532.469647</td>\n",
       "      <td>1.984163</td>\n",
       "    </tr>\n",
       "  </tbody>\n",
       "</table>\n",
       "</div>"
      ],
      "text/plain": [
       "               Number of Sessions  Total Data (Mb)  Dur. (hr)\n",
       "MSISDN/Number                                                \n",
       "3.365043e+10                    1       199.216558   2.018616\n",
       "3.369839e+10                    1       797.900773   2.016133\n",
       "3.365933e+10                    1       266.842393   1.996944\n",
       "3.366566e+10                    1       647.084608   1.985159\n",
       "3.376351e+10                    1       532.469647   1.984163"
      ]
     },
     "execution_count": 42,
     "metadata": {},
     "output_type": "execute_result"
    }
   ],
   "source": [
    "# engagement metrics\n",
    "\n",
    "# Step 1: Group by user\n",
    "grouped_data = df_relevant.groupby('MSISDN/Number')\n",
    "\n",
    "# Step 2: Compute aggregates\n",
    "engagement_metrics = grouped_data.agg({\n",
    "    'Bearer Id': 'count',\n",
    "    'Total Data (Mb)': 'sum',\n",
    "    'Dur. (hr)': 'sum',\n",
    "})\n",
    "\n",
    "engagement_metrics.rename(columns={'Bearer Id': 'Number of Sessions'}, inplace=True)\n",
    "\n",
    "# Step 3: Sort by Number of Sessions in descending order\n",
    "engagement_metrics_sorted = engagement_metrics.sort_values(by=['Number of Sessions', 'Dur. (hr)'], ascending=False)\n",
    "\n",
    "\n",
    "# Display the aggregated data\n",
    "# engagement_metrics_sorted.head(5)\n",
    "engagement_metrics_sorted.tail(5)"
   ]
  },
  {
   "cell_type": "markdown",
   "metadata": {},
   "source": [
    "#### Engagement k-means clustering"
   ]
  },
  {
   "cell_type": "code",
   "execution_count": 65,
   "metadata": {},
   "outputs": [
    {
     "name": "stdout",
     "output_type": "stream",
     "text": [
      "               Number of Sessions  Total Data (Mb)   Dur. (hr)  \\\n",
      "MSISDN/Number                                                    \n",
      "3.366768e+10                    3       708.619061  881.895723   \n",
      "3.366217e+10                    3      1351.611322  644.392814   \n",
      "3.366915e+10                    3      1762.238523  638.322623   \n",
      "3.367067e+10                    3      1331.291696  579.408858   \n",
      "3.366045e+10                    3       517.783782  438.036234   \n",
      "3.362498e+10                    3      1818.287798  404.166872   \n",
      "3.366863e+10                    3      1046.632121  403.099476   \n",
      "3.369859e+10                    3      1738.073669  385.780168   \n",
      "3.366367e+10                    3      1589.540668  367.057898   \n",
      "3.365275e+10                    3      1429.448356  366.542414   \n",
      "\n",
      "              Engagement Group  Engagement Score  \n",
      "MSISDN/Number                                     \n",
      "3.366768e+10   High Engagement                 2  \n",
      "3.366217e+10   High Engagement                 2  \n",
      "3.366915e+10   High Engagement                 2  \n",
      "3.367067e+10   High Engagement                 2  \n",
      "3.366045e+10   High Engagement                 2  \n",
      "3.362498e+10   High Engagement                 2  \n",
      "3.366863e+10   High Engagement                 2  \n",
      "3.369859e+10   High Engagement                 2  \n",
      "3.366367e+10   High Engagement                 2  \n",
      "3.365275e+10   High Engagement                 2  \n"
     ]
    },
    {
     "name": "stderr",
     "output_type": "stream",
     "text": [
      "/tmp/ipykernel_15569/2037226302.py:29: SettingWithCopyWarning: \n",
      "A value is trying to be set on a copy of a slice from a DataFrame.\n",
      "Try using .loc[row_indexer,col_indexer] = value instead\n",
      "\n",
      "See the caveats in the documentation: https://pandas.pydata.org/pandas-docs/stable/user_guide/indexing.html#returning-a-view-versus-a-copy\n",
      "  filtered_data['Engagement Score'] = kmeans.labels_\n",
      "/tmp/ipykernel_15569/2037226302.py:35: SettingWithCopyWarning: \n",
      "A value is trying to be set on a copy of a slice from a DataFrame.\n",
      "Try using .loc[row_indexer,col_indexer] = value instead\n",
      "\n",
      "See the caveats in the documentation: https://pandas.pydata.org/pandas-docs/stable/user_guide/indexing.html#returning-a-view-versus-a-copy\n",
      "  filtered_data['Engagement Group'] = filtered_data['Engagement Score'].map(engagement_labels)\n"
     ]
    }
   ],
   "source": [
    "from sklearn.cluster import KMeans\n",
    "from sklearn.preprocessing import MinMaxScaler\n",
    "\n",
    "# Define a threshold for the number of sessions (e.g., 95th percentile)\n",
    "threshold_sessions = engagement_metrics_sorted['Number of Sessions'].quantile(0.95)\n",
    "\n",
    "# Filter the DataFrame to exclude rows with sessions above the threshold\n",
    "filtered_data = engagement_metrics_sorted[engagement_metrics_sorted['Number of Sessions'] <= threshold_sessions]\n",
    "\n",
    "# Proceed with Min-Max normalization and clustering on filtered_data\n",
    "\n",
    "\n",
    "# Extract the features for clustering\n",
    "X = filtered_data[['Number of Sessions', 'Total Data (Mb)', 'Dur. (hr)']]\n",
    "\n",
    "# Initialize MinMaxScaler\n",
    "scaler = MinMaxScaler()\n",
    "\n",
    "# Apply Min-Max normalization to the features\n",
    "X_normalized = scaler.fit_transform(X)\n",
    "\n",
    "# Initialize the KMeans model with k=3\n",
    "kmeans = KMeans(n_clusters=3, random_state=42)\n",
    "\n",
    "# Fit the model to the normalized data\n",
    "kmeans.fit(X_normalized)\n",
    "\n",
    "# Add the cluster labels to the DataFrame\n",
    "filtered_data['Engagement Score'] = kmeans.labels_\n",
    "\n",
    "# Define labels for the engagement groups\n",
    "engagement_labels = {0: 'Low Engagement', 1: 'Moderate Engagement', 2: 'High Engagement'}\n",
    "\n",
    "# Map cluster labels to engagement groups\n",
    "filtered_data['Engagement Group'] = filtered_data['Engagement Score'].map(engagement_labels)\n",
    "\n",
    "# Display the clustered engagement metrics\n",
    "print(filtered_data.head(10))\n"
   ]
  },
  {
   "cell_type": "code",
   "execution_count": 66,
   "metadata": {},
   "outputs": [
    {
     "name": "stdout",
     "output_type": "stream",
     "text": [
      "Engagement Group Count:\n",
      "Engagement Group\n",
      "Low Engagement         77731\n",
      "Moderate Engagement    21452\n",
      "High Engagement         4422\n",
      "Name: count, dtype: int64\n",
      "\n",
      "Engagement Group Percentage:\n",
      "Engagement Group\n",
      "Low Engagement         75.026302\n",
      "Moderate Engagement    20.705564\n",
      "High Engagement         4.268134\n",
      "Name: proportion, dtype: float64\n"
     ]
    }
   ],
   "source": [
    "# Count of each engagement group\n",
    "engagement_group_count = filtered_data['Engagement Group'].value_counts()\n",
    "\n",
    "# Percentage of each engagement group\n",
    "engagement_group_percentage = filtered_data['Engagement Group'].value_counts(normalize=True) * 100\n",
    "\n",
    "# Display the count and percentage of each engagement group\n",
    "print(\"Engagement Group Count:\")\n",
    "print(engagement_group_count)\n",
    "\n",
    "print(\"\\nEngagement Group Percentage:\")\n",
    "print(engagement_group_percentage)"
   ]
  }
 ],
 "metadata": {
  "kernelspec": {
   "display_name": "venv",
   "language": "python",
   "name": "python3"
  },
  "language_info": {
   "codemirror_mode": {
    "name": "ipython",
    "version": 3
   },
   "file_extension": ".py",
   "mimetype": "text/x-python",
   "name": "python",
   "nbconvert_exporter": "python",
   "pygments_lexer": "ipython3",
   "version": "3.12.3"
  }
 },
 "nbformat": 4,
 "nbformat_minor": 2
}
